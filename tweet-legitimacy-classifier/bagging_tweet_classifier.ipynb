{
 "cells": [
  {
   "cell_type": "markdown",
   "id": "a8932636-b9a5-445e-8b1a-ac067af032eb",
   "metadata": {},
   "source": [
    "# Imports"
   ]
  },
  {
   "cell_type": "code",
   "execution_count": 1,
   "id": "bb2a7495-0a87-45df-939a-0aefd4ff0e71",
   "metadata": {},
   "outputs": [
    {
     "name": "stdout",
     "output_type": "stream",
     "text": [
      "3.10.2 (main, Jan 15 2022, 19:56:27) [GCC 11.1.0]\n",
      "['/home/zander/everything/projects/ProjectX-2021/tweet-legitmacy-classifier', '/usr/lib/python310.zip', '/usr/lib/python3.10', '/usr/lib/python3.10/lib-dynload', '', '/home/zander/.local/lib/python3.10/site-packages', '/usr/lib/python3.10/site-packages']\n"
     ]
    }
   ],
   "source": [
    "import sys\n",
    "print(sys.version)\n",
    "print(sys.path)"
   ]
  },
  {
   "cell_type": "code",
   "execution_count": null,
   "id": "3f5f1011-9ef5-4704-bf7d-6b36c842950e",
   "metadata": {},
   "outputs": [],
   "source": [
    "import numpy as np\n",
    "import pandas as pd\n",
    "import regex as re\n",
    "import string\n",
    "\n",
    "import torch\n",
    "import torch.nn as nn\n",
    "\n",
    "from transformers import (\n",
    "    AutoConfig,\n",
    "    AutoTokenizer,\n",
    "    AutoModelForSequenceClassification,\n",
    ")\n",
    "\n",
    "import random\n",
    "\n",
    "import nltk\n",
    "from nltk.corpus import stopwords\n",
    "from nltk.stem import WordNetLemmatizer\n",
    "\n",
    "from sklearn.metrics import (\n",
    "    accuracy_score,\n",
    "    confusion_matrix,\n",
    "    ConfusionMatrixDisplay\n",
    ")\n",
    "\n",
    "import matplotlib.pyplot as plt\n",
    "\n",
    "import warnings\n",
    "warnings.filterwarnings('ignore')"
   ]
  },
  {
   "cell_type": "markdown",
   "id": "df5ca2e3-2af4-448f-a582-d6c5410e6044",
   "metadata": {
    "tags": []
   },
   "source": [
    "### Constants and helpers"
   ]
  },
  {
   "cell_type": "code",
   "execution_count": null,
   "id": "7e2e1020-20e2-42bc-b910-9c40c28d956d",
   "metadata": {},
   "outputs": [],
   "source": [
    "target_names = ['legitimate','misinformation','irrelevant']\n",
    "max_length = 96\n",
    "stop = stopwords.words('english')"
   ]
  },
  {
   "cell_type": "code",
   "execution_count": null,
   "id": "5b653dfe-b724-41a3-b894-38520b70c3c1",
   "metadata": {},
   "outputs": [],
   "source": [
    "def clean_text(row):\n",
    "    # Lower case\n",
    "    row = row.lower()\n",
    "    \n",
    "    # Remove URLs\n",
    "    row = re.sub('http\\S+|www.\\S+', '', row)\n",
    "    \n",
    "    # Remove @mentions\n",
    "    row = re.sub('@[A-Za-z0-9]+', '', row)\n",
    "    \n",
    "    # Remove non-standard characters\n",
    "    row = row.encode(\"ascii\", \"ignore\").decode()\n",
    "    \n",
    "    # Remove punctuation\n",
    "    row = row.translate(str.maketrans('', '', string.punctuation))\n",
    "    \n",
    "    # Remove stop words\n",
    "    pat = r'\\b(?:{})\\b'.format('|'.join(stop))\n",
    "    row = row.replace(pat, '')\n",
    "    row = row.replace(r'\\s+', ' ')\n",
    "    \n",
    "    # Remove extraneous whitespace\n",
    "    row = row.strip()\n",
    "    \n",
    "    # Lemmatization\n",
    "    wordnet_lemmatizer = WordNetLemmatizer()\n",
    "    w_tokenization = nltk.word_tokenize(row)\n",
    "    final = \"\"\n",
    "    for w in w_tokenization:\n",
    "        final = final + \" \" + wordnet_lemmatizer.lemmatize(w)\n",
    "    \n",
    "    return final"
   ]
  },
  {
   "cell_type": "code",
   "execution_count": null,
   "id": "33385212-de5a-405f-8719-28c982b00369",
   "metadata": {},
   "outputs": [],
   "source": []
  },
  {
   "cell_type": "markdown",
   "id": "01875345-0db8-415a-8ea4-42cdc1eaf679",
   "metadata": {},
   "source": [
    "# Model"
   ]
  },
  {
   "cell_type": "code",
   "execution_count": null,
   "id": "6e41df50-3a81-4bdf-bda2-d2bd929e59b6",
   "metadata": {},
   "outputs": [],
   "source": [
    "PATH1 = 'models/first-augmented-miscov19-covid-twitter-bert-v2'\n",
    "tokenizer1 = AutoTokenizer.from_pretrained(PATH1, local_files_only=True)\n",
    "model1 = AutoModelForSequenceClassification \\\n",
    "        .from_pretrained(PATH1, num_labels=len(target_names), local_files_only=True).to(\"cuda\")\n",
    "\n",
    "PATH2 = 'models/second-augmented-miscov19-covid-twitter-bert-v2'\n",
    "tokenizer2 = AutoTokenizer.from_pretrained(PATH2, local_files_only=True)\n",
    "model2 = AutoModelForSequenceClassification \\\n",
    "        .from_pretrained(PATH2, num_labels=len(target_names), local_files_only=True).to(\"cuda\")\n",
    "\n",
    "PATH3 = 'models/third-augmented-miscov19-covid-twitter-bert-v2'\n",
    "tokenizer3 = AutoTokenizer.from_pretrained(PATH3, local_files_only=True)\n",
    "model3 = AutoModelForSequenceClassification \\\n",
    "        .from_pretrained(PATH3, num_labels=len(target_names), local_files_only=True).to(\"cuda\")\n",
    "\n",
    "PATH4 = 'models/fourth-augmented-miscov19-covid-twitter-bert-v2'\n",
    "tokenizer4 = AutoTokenizer.from_pretrained(PATH4, local_files_only=True)\n",
    "model4 = AutoModelForSequenceClassification \\\n",
    "        .from_pretrained(PATH4, num_labels=len(target_names), local_files_only=True).to(\"cuda\")\n"
   ]
  },
  {
   "cell_type": "code",
   "execution_count": null,
   "id": "3574ef22-8382-42e1-af2c-3babdff2d201",
   "metadata": {},
   "outputs": [],
   "source": [
    "class BaggedTweetClassifier(nn.Module):\n",
    "    def __init__(self):\n",
    "        super(BaggedTweetClassifier, self).__init__()\n",
    "        self.tok1 = tokenizer1\n",
    "        self.bert1 = model1\n",
    "        \n",
    "        self.tok2 = tokenizer2\n",
    "        self.bert2 = model2\n",
    "        \n",
    "        self.tok3 = tokenizer3\n",
    "        self.bert3 = model3\n",
    "        \n",
    "        self.tok4 = tokenizer4\n",
    "        self.bert4 = model4\n",
    "\n",
    "    def forward(self, x, debug=False):\n",
    "        x = clean_text(x)\n",
    "        \n",
    "        in1 = self.tok1(x, padding=True, truncation=True, max_length=max_length, return_tensors=\"pt\").to(\"cuda\")\n",
    "        in2 = self.tok2(x, padding=True, truncation=True, max_length=max_length, return_tensors=\"pt\").to(\"cuda\")\n",
    "        in3 = self.tok3(x, padding=True, truncation=True, max_length=max_length, return_tensors=\"pt\").to(\"cuda\")\n",
    "        in4 = self.tok4(x, padding=True, truncation=True, max_length=max_length, return_tensors=\"pt\").to(\"cuda\")\n",
    "        \n",
    "        out1 = self.bert1(**in1)\n",
    "        out2 = self.bert2(**in2)\n",
    "        out3 = self.bert3(**in3)\n",
    "        out4 = self.bert4(**in4)\n",
    "        \n",
    "        probs1 = out1[0].softmax(1)\n",
    "        probs2 = out2[0].softmax(1)\n",
    "        probs3 = out3[0].softmax(1)\n",
    "        probs4 = out4[0].softmax(1)\n",
    "        \n",
    "        avg_prob = (probs1 + probs2 + probs3 + probs4) / 4.0\n",
    "        \n",
    "        if(debug):\n",
    "            print(f'-------------------------------------------------------------')\n",
    "            print(f'| label        | model1 | model2 | model3 | model4 | avg_pr |')\n",
    "            print(f'| legitimate   | {probs1[0][0].item():.4f} | {probs2[0][0].item():.4f} | {probs3[0][0].item():.4f} | {probs4[0][0].item():.4f} | {avg_prob[0][0].item():.4f} |')\n",
    "            print(f'| misinfo      | {probs1[0][1].item():.4f} | {probs2[0][1].item():.4f} | {probs3[0][1].item():.4f} | {probs4[0][1].item():.4f} | {avg_prob[0][1].item():.4f} |')\n",
    "            print(f'| irrelevant   | {probs1[0][2].item():.4f} | {probs2[0][2].item():.4f} | {probs3[0][2].item():.4f} | {probs4[0][2].item():.4f} | {avg_prob[0][2].item():.4f} |')\n",
    "            print(f'-------------------------------------------------------------')\n",
    "            return target_names[avg_prob.argmax()]\n",
    "        \n",
    "        return avg_prob.argmax()\n",
    "    "
   ]
  },
  {
   "cell_type": "code",
   "execution_count": null,
   "id": "c34eac96-6898-4d0e-b2b4-6dfe63f7fac7",
   "metadata": {},
   "outputs": [],
   "source": [
    "model = BaggedTweetClassifier()"
   ]
  },
  {
   "cell_type": "markdown",
   "id": "b71465d4-9cdf-48ac-b70d-06eb34b3070a",
   "metadata": {},
   "source": [
    "### Accuracy and Confusion Matrix on MisCov19 Dataset"
   ]
  },
  {
   "cell_type": "code",
   "execution_count": null,
   "id": "b0ff176d-1f39-4254-a47f-05c64b46a4e0",
   "metadata": {},
   "outputs": [],
   "source": [
    "raw_df = pd.read_csv('miscov19_p.csv')\n",
    "df = raw_df[['text','label']]\n",
    "df.dropna()\n",
    "df['text'] = df['text'].astype(str)\n",
    "df.tail()"
   ]
  },
  {
   "cell_type": "code",
   "execution_count": null,
   "id": "b5fff935-a072-4835-ba13-c055afc9c907",
   "metadata": {},
   "outputs": [],
   "source": [
    "df['text'] = df['text'].apply(clean_text)"
   ]
  },
  {
   "cell_type": "code",
   "execution_count": null,
   "id": "99f183d4-3b61-437e-9673-220fc82c4983",
   "metadata": {},
   "outputs": [],
   "source": [
    "df['preds'] = df['text'].apply(model)"
   ]
  },
  {
   "cell_type": "code",
   "execution_count": null,
   "id": "5fa00ac6-28a3-4a79-a1fc-5bd2e7289256",
   "metadata": {},
   "outputs": [],
   "source": [
    "def to_cpu(x):\n",
    "    return x.cpu()"
   ]
  },
  {
   "cell_type": "code",
   "execution_count": null,
   "id": "d9e8dd72-896f-45d2-a38a-6b6990f3a976",
   "metadata": {},
   "outputs": [],
   "source": [
    "df['preds'] = df['preds'].apply(to_cpu)"
   ]
  },
  {
   "cell_type": "code",
   "execution_count": null,
   "id": "bfb787b7-ff34-4713-8656-43804f8fee0e",
   "metadata": {},
   "outputs": [],
   "source": [
    "y_true = df['label'].tolist()\n",
    "y_pred = df['preds'].tolist()"
   ]
  },
  {
   "cell_type": "code",
   "execution_count": null,
   "id": "05ba6353-df7e-49f9-a509-bd984f8bba01",
   "metadata": {},
   "outputs": [],
   "source": [
    "print(f'Ensemble Accuracy: {accuracy_score(y_true, y_pred)}')"
   ]
  },
  {
   "cell_type": "code",
   "execution_count": null,
   "id": "55401f31-1e86-4305-8cb8-93be74db86ea",
   "metadata": {},
   "outputs": [],
   "source": [
    "confusion_mat = confusion_matrix(y_true, y_pred)\n",
    "disp = ConfusionMatrixDisplay(confusion_mat, display_labels=target_names)\n",
    "disp.plot(cmap='inferno_r')\n",
    "plt.show()"
   ]
  },
  {
   "cell_type": "markdown",
   "id": "ea58d104-7c87-4370-9915-086fe0a774f7",
   "metadata": {},
   "source": [
    "### Accuracy and Confusion Matrix on Augmented MisCov19 Dataset"
   ]
  },
  {
   "cell_type": "code",
   "execution_count": null,
   "id": "d0ccf34d-3524-4e9b-aa17-7155650712b5",
   "metadata": {},
   "outputs": [],
   "source": [
    "raw_df = pd.read_csv('combined_data.csv')\n",
    "df = raw_df[['text','label']]\n",
    "df.dropna()\n",
    "df['text'] = df['text'].astype(str)\n",
    "df.tail()"
   ]
  },
  {
   "cell_type": "code",
   "execution_count": null,
   "id": "47cdb742-cc94-4ef2-a6d3-95385679629b",
   "metadata": {},
   "outputs": [],
   "source": [
    "df['text'] = df['text'].apply(clean_text)"
   ]
  },
  {
   "cell_type": "code",
   "execution_count": null,
   "id": "f90c102f-8d80-4faa-97e6-f794a14456e5",
   "metadata": {},
   "outputs": [],
   "source": [
    "df['preds'] = df['text'].apply(model)"
   ]
  },
  {
   "cell_type": "code",
   "execution_count": null,
   "id": "1f62b452-0111-416e-9b2f-dde76dfcb80b",
   "metadata": {},
   "outputs": [],
   "source": [
    "df['preds'] = df['preds'].apply(to_cpu)"
   ]
  },
  {
   "cell_type": "code",
   "execution_count": null,
   "id": "30debc96-9d6a-4d63-a8ea-b5ab403f08de",
   "metadata": {},
   "outputs": [],
   "source": [
    "y_true2 = df['label'].tolist()\n",
    "y_pred2 = df['preds'].tolist()"
   ]
  },
  {
   "cell_type": "code",
   "execution_count": null,
   "id": "a7b7d0a0-88ad-4143-a645-de5154ce604e",
   "metadata": {},
   "outputs": [],
   "source": [
    "print(f'Ensemble Accuracy (Augmented): {accuracy_score(y_true2, y_pred2)}')"
   ]
  },
  {
   "cell_type": "code",
   "execution_count": null,
   "id": "388dd82e-3096-4c19-a957-d75a93983e01",
   "metadata": {},
   "outputs": [],
   "source": [
    "confusion_mat2 = confusion_matrix(y_true2, y_pred2)\n",
    "disp2 = ConfusionMatrixDisplay(confusion_mat2, display_labels=target_names)\n",
    "disp2.plot(cmap='inferno_r')\n",
    "plt.show()"
   ]
  },
  {
   "cell_type": "code",
   "execution_count": null,
   "id": "8a45aa0e-9369-4442-a8b7-aac64e9d1b42",
   "metadata": {},
   "outputs": [],
   "source": []
  },
  {
   "cell_type": "markdown",
   "id": "0dc163c1-9fe5-41a3-a431-18e414fe8c2a",
   "metadata": {},
   "source": [
    "### Cherry picked examples"
   ]
  },
  {
   "cell_type": "code",
   "execution_count": null,
   "id": "859ecc82-629a-41c9-86a4-e7f891ac74f4",
   "metadata": {},
   "outputs": [],
   "source": [
    "# Example #1\n",
    "text = \"DP Dough is the best restaurant in College Town\"\n",
    "print(model(text, debug=True))"
   ]
  },
  {
   "cell_type": "code",
   "execution_count": null,
   "id": "b944762b-5667-42f3-9e52-9d1323227ab5",
   "metadata": {},
   "outputs": [],
   "source": [
    "# Example #2\n",
    "text2 = \"Vaccines cause autism\"\n",
    "print(model(text2, debug=True))"
   ]
  },
  {
   "cell_type": "code",
   "execution_count": null,
   "id": "3d3e22de-b517-4b43-8189-28920f3c9a34",
   "metadata": {},
   "outputs": [],
   "source": [
    "# Example #3\n",
    "text3 = \"Vaccines prevent over 90% of Covid infections! #Science\"\n",
    "print(model(text3, debug=True))"
   ]
  },
  {
   "cell_type": "code",
   "execution_count": null,
   "id": "ac354bef-b7eb-4af6-9e61-dc077086466a",
   "metadata": {},
   "outputs": [],
   "source": [
    "# Example #4\n",
    "text4 = \"Vaccines will end the pandemic\"\n",
    "print(model(text4, debug=True))"
   ]
  },
  {
   "cell_type": "code",
   "execution_count": null,
   "id": "9b57b250-d4e2-4612-9006-e9a5e7affe54",
   "metadata": {},
   "outputs": [],
   "source": [
    "# Example #5\n",
    "text5 = \"scientists say kaitlyn will prevent covid\"\n",
    "print(model(text5, debug=True))"
   ]
  },
  {
   "cell_type": "code",
   "execution_count": null,
   "id": "11263fa3-507a-42aa-9672-231cbb842e8b",
   "metadata": {},
   "outputs": [],
   "source": [
    "# Example #6\n",
    "text6 = \"Biden says vaccines prevent over 90% of Covid infections!\"\n",
    "print(model(text6, debug=True))"
   ]
  },
  {
   "cell_type": "code",
   "execution_count": null,
   "id": "77cf0075-0d53-4a9a-9c1c-95b680830e86",
   "metadata": {},
   "outputs": [],
   "source": [
    "# Example #7\n",
    "text7 = \"Biden says vaccines cause autism!\"\n",
    "print(model(text7, debug=True))"
   ]
  },
  {
   "cell_type": "code",
   "execution_count": null,
   "id": "764ddeb8-a58b-4528-a6d1-b7dd1c5dd61b",
   "metadata": {},
   "outputs": [],
   "source": [
    "# Example #8\n",
    "text8 = \"In Portugal, with 89% of the total population fully vaccinated, almost 90% of UCI Covid patients are unvaccinated\"\n",
    "print(model(text8, debug=True))"
   ]
  },
  {
   "cell_type": "code",
   "execution_count": null,
   "id": "15058aea-c5fe-4ed3-a844-279e899053f0",
   "metadata": {},
   "outputs": [],
   "source": [
    "# Example #9\n",
    "text9 = \"President Trump has covid\"\n",
    "print(model(text9, debug=True))"
   ]
  },
  {
   "cell_type": "code",
   "execution_count": null,
   "id": "7d93a257-f35d-4218-8f9b-b10ed7ff672f",
   "metadata": {},
   "outputs": [],
   "source": [
    "# Example #10\n",
    "text10 = \"Vaccines don't stop you from getting covid.\"\n",
    "print(model(text10, debug=True))"
   ]
  },
  {
   "cell_type": "code",
   "execution_count": null,
   "id": "5bab22c0-dd1b-4551-a55c-ba39611afb41",
   "metadata": {},
   "outputs": [],
   "source": [
    "# Example #11\n",
    "text11 = \"Vaccinations stop you from getting covid.\"\n",
    "print(model(text11, debug=True))"
   ]
  },
  {
   "cell_type": "code",
   "execution_count": null,
   "id": "1eeb5a37-820a-4401-a6f2-fbf8b1168c41",
   "metadata": {},
   "outputs": [],
   "source": [
    "# Example #12\n",
    "text12 = \"Masks are effective\"\n",
    "print(model(text12, debug=True))"
   ]
  },
  {
   "cell_type": "code",
   "execution_count": null,
   "id": "2bd5d3c4-ca88-47ba-ac4f-4017049627dc",
   "metadata": {},
   "outputs": [],
   "source": [
    "# Example #13\n",
    "text13 = \"Vaccines are effective\"\n",
    "print(model(text13, debug=True))"
   ]
  },
  {
   "cell_type": "code",
   "execution_count": null,
   "id": "47d0e447-7c29-4a94-ac8f-1d01c55c5640",
   "metadata": {},
   "outputs": [],
   "source": [
    "# Example #14\n",
    "text14 = \"Essential oils are effective\"\n",
    "print(model(text14, debug=True))"
   ]
  },
  {
   "cell_type": "code",
   "execution_count": null,
   "id": "92600efd-3f86-482e-9b1c-1d7ea6328fc2",
   "metadata": {},
   "outputs": [],
   "source": [
    "# Example #15\n",
    "text15 = '''The Omicron variant of the coronavirus is causing Covid-19 cases to spike, \n",
    "            with an average of more than 747,000 new cases a day, according to the latest \n",
    "            numbers from Johns Hopkins University'''\n",
    "print(model(text15, debug=True))"
   ]
  },
  {
   "cell_type": "code",
   "execution_count": null,
   "id": "5c672b5d-8ed0-4c8e-8f05-5574f727c696",
   "metadata": {},
   "outputs": [],
   "source": [
    "# Example #16\n",
    "text16 = '''Kim Kramer has heart failure, which puts her at higher risk of having a severe case \n",
    "            of Covid-19.'''\n",
    "print(model(text16, debug=True))"
   ]
  },
  {
   "cell_type": "code",
   "execution_count": null,
   "id": "d7ed11bb-f05f-41cb-9d03-ea6847072c59",
   "metadata": {},
   "outputs": [],
   "source": []
  },
  {
   "cell_type": "code",
   "execution_count": null,
   "id": "40b19e97-aeb5-460a-99d7-1e22b3c80d25",
   "metadata": {},
   "outputs": [],
   "source": []
  }
 ],
 "metadata": {
  "kernelspec": {
   "display_name": ".venv",
   "language": "python",
   "name": ".venv"
  },
  "language_info": {
   "codemirror_mode": {
    "name": "ipython",
    "version": 3
   },
   "file_extension": ".py",
   "mimetype": "text/x-python",
   "name": "python",
   "nbconvert_exporter": "python",
   "pygments_lexer": "ipython3",
   "version": "3.10.2"
  }
 },
 "nbformat": 4,
 "nbformat_minor": 5
}
