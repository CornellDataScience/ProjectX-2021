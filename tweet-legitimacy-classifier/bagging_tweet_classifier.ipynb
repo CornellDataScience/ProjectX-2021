{
 "cells": [
  {
   "cell_type": "markdown",
   "id": "a8932636-b9a5-445e-8b1a-ac067af032eb",
   "metadata": {},
   "source": [
    "# Imports"
   ]
  },
  {
   "cell_type": "code",
   "execution_count": 1,
   "id": "bb2a7495-0a87-45df-939a-0aefd4ff0e71",
   "metadata": {},
   "outputs": [
    {
     "name": "stdout",
     "output_type": "stream",
     "text": [
      "3.9.5 (default, Jan  2 2022, 22:23:27) \n",
      "[GCC 11.1.0]\n"
     ]
    }
   ],
   "source": [
    "import sys\n",
    "print(sys.version)"
   ]
  },
  {
   "cell_type": "code",
   "execution_count": 7,
   "id": "3f5f1011-9ef5-4704-bf7d-6b36c842950e",
   "metadata": {},
   "outputs": [],
   "source": [
    "import numpy as np\n",
    "import pandas as pd\n",
    "import regex as re\n",
    "import string\n",
    "\n",
    "import torch\n",
    "import torch.nn as nn\n",
    "\n",
    "from transformers import (\n",
    "    AutoConfig,\n",
    "    AutoTokenizer,\n",
    "    AutoModelForSequenceClassification,\n",
    ")\n",
    "\n",
    "import random\n",
    "\n",
    "import nltk\n",
    "from nltk.corpus import stopwords\n",
    "from nltk.stem import WordNetLemmatizer\n",
    "\n",
    "from sklearn.metrics import (\n",
    "    accuracy_score,\n",
    "    confusion_matrix,\n",
    "    ConfusionMatrixDisplay\n",
    ")\n",
    "\n",
    "import matplotlib.pyplot as plt\n",
    "\n",
    "import warnings\n",
    "warnings.filterwarnings('ignore')"
   ]
  },
  {
   "cell_type": "markdown",
   "id": "df5ca2e3-2af4-448f-a582-d6c5410e6044",
   "metadata": {
    "tags": []
   },
   "source": [
    "### Constants and helpers"
   ]
  },
  {
   "cell_type": "code",
   "execution_count": 8,
   "id": "7e2e1020-20e2-42bc-b910-9c40c28d956d",
   "metadata": {},
   "outputs": [],
   "source": [
    "target_names = ['legitimate','misinformation','irrelevant']\n",
    "max_length = 96\n",
    "stop = stopwords.words('english')"
   ]
  },
  {
   "cell_type": "code",
   "execution_count": 9,
   "id": "5b653dfe-b724-41a3-b894-38520b70c3c1",
   "metadata": {},
   "outputs": [],
   "source": [
    "def clean_text(row):\n",
    "    # Lower case\n",
    "    row = row.lower()\n",
    "    \n",
    "    # Remove URLs\n",
    "    row = re.sub('http\\S+|www.\\S+', '', row)\n",
    "    \n",
    "    # Remove @mentions\n",
    "    row = re.sub('@[A-Za-z0-9]+', '', row)\n",
    "    \n",
    "    # Remove non-standard characters\n",
    "    row = row.encode(\"ascii\", \"ignore\").decode()\n",
    "    \n",
    "    # Remove punctuation\n",
    "    row = row.translate(str.maketrans('', '', string.punctuation))\n",
    "    \n",
    "    # Remove stop words\n",
    "    pat = r'\\b(?:{})\\b'.format('|'.join(stop))\n",
    "    row = row.replace(pat, '')\n",
    "    row = row.replace(r'\\s+', ' ')\n",
    "    \n",
    "    # Remove extraneous whitespace\n",
    "    row = row.strip()\n",
    "    \n",
    "    # Lemmatization\n",
    "    wordnet_lemmatizer = WordNetLemmatizer()\n",
    "    w_tokenization = nltk.word_tokenize(row)\n",
    "    final = \"\"\n",
    "    for w in w_tokenization:\n",
    "        final = final + \" \" + wordnet_lemmatizer.lemmatize(w)\n",
    "    \n",
    "    return final"
   ]
  },
  {
   "cell_type": "code",
   "execution_count": null,
   "id": "33385212-de5a-405f-8719-28c982b00369",
   "metadata": {},
   "outputs": [],
   "source": []
  },
  {
   "cell_type": "markdown",
   "id": "01875345-0db8-415a-8ea4-42cdc1eaf679",
   "metadata": {},
   "source": [
    "# Model"
   ]
  },
  {
   "cell_type": "code",
   "execution_count": 10,
   "id": "6e41df50-3a81-4bdf-bda2-d2bd929e59b6",
   "metadata": {},
   "outputs": [],
   "source": [
    "PATH1 = 'models/first-augmented-miscov19-covid-twitter-bert-v2'\n",
    "tokenizer1 = AutoTokenizer.from_pretrained(PATH1, local_files_only=True)\n",
    "model1 = AutoModelForSequenceClassification \\\n",
    "        .from_pretrained(PATH1, num_labels=len(target_names), local_files_only=True).to(\"cuda\")\n",
    "\n",
    "PATH2 = 'models/second-augmented-miscov19-covid-twitter-bert-v2'\n",
    "tokenizer2 = AutoTokenizer.from_pretrained(PATH2, local_files_only=True)\n",
    "model2 = AutoModelForSequenceClassification \\\n",
    "        .from_pretrained(PATH2, num_labels=len(target_names), local_files_only=True).to(\"cuda\")\n",
    "\n",
    "PATH3 = 'models/third-augmented-miscov19-covid-twitter-bert-v2'\n",
    "tokenizer3 = AutoTokenizer.from_pretrained(PATH3, local_files_only=True)\n",
    "model3 = AutoModelForSequenceClassification \\\n",
    "        .from_pretrained(PATH3, num_labels=len(target_names), local_files_only=True).to(\"cuda\")\n",
    "\n",
    "PATH4 = 'models/fourth-augmented-miscov19-covid-twitter-bert-v2'\n",
    "tokenizer4 = AutoTokenizer.from_pretrained(PATH4, local_files_only=True)\n",
    "model4 = AutoModelForSequenceClassification \\\n",
    "        .from_pretrained(PATH4, num_labels=len(target_names), local_files_only=True).to(\"cuda\")\n"
   ]
  },
  {
   "cell_type": "code",
   "execution_count": 11,
   "id": "3574ef22-8382-42e1-af2c-3babdff2d201",
   "metadata": {},
   "outputs": [],
   "source": [
    "class BaggedTweetClassifier(nn.Module):\n",
    "    def __init__(self):\n",
    "        super(BaggedTweetClassifier, self).__init__()\n",
    "        self.tok1 = tokenizer1\n",
    "        self.bert1 = model1\n",
    "        \n",
    "        self.tok2 = tokenizer2\n",
    "        self.bert2 = model2\n",
    "        \n",
    "        self.tok3 = tokenizer3\n",
    "        self.bert3 = model3\n",
    "        \n",
    "        self.tok4 = tokenizer4\n",
    "        self.bert4 = model4\n",
    "\n",
    "    def forward(self, x, debug=False):\n",
    "        x = clean_text(x)\n",
    "        \n",
    "        in1 = self.tok1(x, padding=True, truncation=True, max_length=max_length, return_tensors=\"pt\").to(\"cuda\")\n",
    "        in2 = self.tok2(x, padding=True, truncation=True, max_length=max_length, return_tensors=\"pt\").to(\"cuda\")\n",
    "        in3 = self.tok3(x, padding=True, truncation=True, max_length=max_length, return_tensors=\"pt\").to(\"cuda\")\n",
    "        in4 = self.tok4(x, padding=True, truncation=True, max_length=max_length, return_tensors=\"pt\").to(\"cuda\")\n",
    "        \n",
    "        out1 = self.bert1(**in1)\n",
    "        out2 = self.bert2(**in2)\n",
    "        out3 = self.bert3(**in3)\n",
    "        out4 = self.bert4(**in4)\n",
    "        \n",
    "        probs1 = out1[0].softmax(1)\n",
    "        probs2 = out2[0].softmax(1)\n",
    "        probs3 = out3[0].softmax(1)\n",
    "        probs4 = out4[0].softmax(1)\n",
    "        \n",
    "        avg_prob = (probs1 + probs2 + probs3 + probs4) / 4.0\n",
    "        \n",
    "        if(debug):\n",
    "            print(f'-------------------------------------------------------------')\n",
    "            print(f'| label        | model1 | model2 | model3 | model4 | avg_pr |')\n",
    "            print(f'| legitimate   | {probs1[0][0].item():.4f} | {probs2[0][0].item():.4f} | {probs3[0][0].item():.4f} | {probs4[0][0].item():.4f} | {avg_prob[0][0].item():.4f} |')\n",
    "            print(f'| misinfo      | {probs1[0][1].item():.4f} | {probs2[0][1].item():.4f} | {probs3[0][1].item():.4f} | {probs4[0][1].item():.4f} | {avg_prob[0][1].item():.4f} |')\n",
    "            print(f'| irrelevant   | {probs1[0][2].item():.4f} | {probs2[0][2].item():.4f} | {probs3[0][2].item():.4f} | {probs4[0][2].item():.4f} | {avg_prob[0][2].item():.4f} |')\n",
    "            print(f'-------------------------------------------------------------')\n",
    "            return target_names[avg_prob.argmax()]\n",
    "        \n",
    "        return avg_prob.argmax()\n",
    "    "
   ]
  },
  {
   "cell_type": "code",
   "execution_count": 12,
   "id": "c34eac96-6898-4d0e-b2b4-6dfe63f7fac7",
   "metadata": {},
   "outputs": [],
   "source": [
    "model = BaggedTweetClassifier()"
   ]
  },
  {
   "cell_type": "markdown",
   "id": "b71465d4-9cdf-48ac-b70d-06eb34b3070a",
   "metadata": {},
   "source": [
    "### Accuracy and Confusion Matrix on MisCov19 Dataset"
   ]
  },
  {
   "cell_type": "code",
   "execution_count": 13,
   "id": "b0ff176d-1f39-4254-a47f-05c64b46a4e0",
   "metadata": {},
   "outputs": [
    {
     "data": {
      "text/html": [
       "<div>\n",
       "<style scoped>\n",
       "    .dataframe tbody tr th:only-of-type {\n",
       "        vertical-align: middle;\n",
       "    }\n",
       "\n",
       "    .dataframe tbody tr th {\n",
       "        vertical-align: top;\n",
       "    }\n",
       "\n",
       "    .dataframe thead th {\n",
       "        text-align: right;\n",
       "    }\n",
       "</style>\n",
       "<table border=\"1\" class=\"dataframe\">\n",
       "  <thead>\n",
       "    <tr style=\"text-align: right;\">\n",
       "      <th></th>\n",
       "      <th>text</th>\n",
       "      <th>label</th>\n",
       "    </tr>\n",
       "  </thead>\n",
       "  <tbody>\n",
       "    <tr>\n",
       "      <th>4568</th>\n",
       "      <td>Da fark is wrong with these people?!\\n\\nhttps:...</td>\n",
       "      <td>0</td>\n",
       "    </tr>\n",
       "    <tr>\n",
       "      <th>4569</th>\n",
       "      <td>Doctor Finds Cure to COVID-19 (without Vaccine...</td>\n",
       "      <td>1</td>\n",
       "    </tr>\n",
       "    <tr>\n",
       "      <th>4570</th>\n",
       "      <td>I can’t believe people legitimately think that...</td>\n",
       "      <td>0</td>\n",
       "    </tr>\n",
       "    <tr>\n",
       "      <th>4571</th>\n",
       "      <td>...(wrong with Trump continues), \\n-Will push ...</td>\n",
       "      <td>2</td>\n",
       "    </tr>\n",
       "    <tr>\n",
       "      <th>4572</th>\n",
       "      <td>For anyone who still believes that COVID-19 is...</td>\n",
       "      <td>0</td>\n",
       "    </tr>\n",
       "  </tbody>\n",
       "</table>\n",
       "</div>"
      ],
      "text/plain": [
       "                                                   text  label\n",
       "4568  Da fark is wrong with these people?!\\n\\nhttps:...      0\n",
       "4569  Doctor Finds Cure to COVID-19 (without Vaccine...      1\n",
       "4570  I can’t believe people legitimately think that...      0\n",
       "4571  ...(wrong with Trump continues), \\n-Will push ...      2\n",
       "4572  For anyone who still believes that COVID-19 is...      0"
      ]
     },
     "execution_count": 13,
     "metadata": {},
     "output_type": "execute_result"
    }
   ],
   "source": [
    "raw_df = pd.read_csv('miscov19_augmented_final.csv')\n",
    "df = raw_df[['text','label']]\n",
    "df.dropna()\n",
    "df['text'] = df['text'].astype(str)\n",
    "df.tail()"
   ]
  },
  {
   "cell_type": "code",
   "execution_count": 14,
   "id": "b5fff935-a072-4835-ba13-c055afc9c907",
   "metadata": {},
   "outputs": [],
   "source": [
    "df['text'] = df['text'].apply(clean_text)"
   ]
  },
  {
   "cell_type": "code",
   "execution_count": 15,
   "id": "99f183d4-3b61-437e-9673-220fc82c4983",
   "metadata": {},
   "outputs": [],
   "source": [
    "df['preds'] = df['text'].apply(model)"
   ]
  },
  {
   "cell_type": "code",
   "execution_count": 16,
   "id": "5fa00ac6-28a3-4a79-a1fc-5bd2e7289256",
   "metadata": {},
   "outputs": [],
   "source": [
    "def to_cpu(x):\n",
    "    return x.cpu()"
   ]
  },
  {
   "cell_type": "code",
   "execution_count": 17,
   "id": "d9e8dd72-896f-45d2-a38a-6b6990f3a976",
   "metadata": {},
   "outputs": [],
   "source": [
    "df['preds'] = df['preds'].apply(to_cpu)"
   ]
  },
  {
   "cell_type": "code",
   "execution_count": 19,
   "id": "bfb787b7-ff34-4713-8656-43804f8fee0e",
   "metadata": {},
   "outputs": [],
   "source": [
    "y_true = df['label'].tolist()\n",
    "y_pred = df['preds'].tolist()"
   ]
  },
  {
   "cell_type": "code",
   "execution_count": 20,
   "id": "05ba6353-df7e-49f9-a509-bd984f8bba01",
   "metadata": {},
   "outputs": [
    {
     "name": "stdout",
     "output_type": "stream",
     "text": [
      "Ensemble Accuracy: 0.8381806254100153\n"
     ]
    }
   ],
   "source": [
    "print(f'Ensemble Accuracy: {accuracy_score(y_true, y_pred)}')"
   ]
  },
  {
   "cell_type": "code",
   "execution_count": 21,
   "id": "55401f31-1e86-4305-8cb8-93be74db86ea",
   "metadata": {},
   "outputs": [
    {
     "data": {
      "image/png": "[encoded data removed]",
      "text/plain": [
       "<Figure size 432x288 with 2 Axes>"
      ]
     },
     "metadata": {
      "needs_background": "light"
     },
     "output_type": "display_data"
    }
   ],
   "source": [
    "confusion_mat = confusion_matrix(y_true, y_pred)\n",
    "disp = ConfusionMatrixDisplay(confusion_mat, display_labels=target_names)\n",
    "disp.plot(cmap='inferno_r')\n",
    "plt.show()"
   ]
  },
  {
   "cell_type": "markdown",
   "id": "ea58d104-7c87-4370-9915-086fe0a774f7",
   "metadata": {},
   "source": [
    "### Accuracy and Confusion Matrix on Augmented MisCov19 Dataset"
   ]
  },
  {
   "cell_type": "code",
   "execution_count": 22,
   "id": "d0ccf34d-3524-4e9b-aa17-7155650712b5",
   "metadata": {},
   "outputs": [
    {
     "data": {
      "text/html": [
       "<div>\n",
       "<style scoped>\n",
       "    .dataframe tbody tr th:only-of-type {\n",
       "        vertical-align: middle;\n",
       "    }\n",
       "\n",
       "    .dataframe tbody tr th {\n",
       "        vertical-align: top;\n",
       "    }\n",
       "\n",
       "    .dataframe thead th {\n",
       "        text-align: right;\n",
       "    }\n",
       "</style>\n",
       "<table border=\"1\" class=\"dataframe\">\n",
       "  <thead>\n",
       "    <tr style=\"text-align: right;\">\n",
       "      <th></th>\n",
       "      <th>text</th>\n",
       "      <th>label</th>\n",
       "    </tr>\n",
       "  </thead>\n",
       "  <tbody>\n",
       "    <tr>\n",
       "      <th>6572</th>\n",
       "      <td>nan</td>\n",
       "      <td>1</td>\n",
       "    </tr>\n",
       "    <tr>\n",
       "      <th>6573</th>\n",
       "      <td>Why is everyone pretending like theyre immune ...</td>\n",
       "      <td>0</td>\n",
       "    </tr>\n",
       "    <tr>\n",
       "      <th>6574</th>\n",
       "      <td>CDC said if you snort enough cocaine it would ...</td>\n",
       "      <td>2</td>\n",
       "    </tr>\n",
       "    <tr>\n",
       "      <th>6575</th>\n",
       "      <td>A message hailing the powers of 'boiled garlic...</td>\n",
       "      <td>0</td>\n",
       "    </tr>\n",
       "    <tr>\n",
       "      <th>6576</th>\n",
       "      <td>5G Networks? Bleach? Ultraviolet light? The co...</td>\n",
       "      <td>0</td>\n",
       "    </tr>\n",
       "  </tbody>\n",
       "</table>\n",
       "</div>"
      ],
      "text/plain": [
       "                                                   text  label\n",
       "6572                                                nan      1\n",
       "6573  Why is everyone pretending like theyre immune ...      0\n",
       "6574  CDC said if you snort enough cocaine it would ...      2\n",
       "6575  A message hailing the powers of 'boiled garlic...      0\n",
       "6576  5G Networks? Bleach? Ultraviolet light? The co...      0"
      ]
     },
     "execution_count": 22,
     "metadata": {},
     "output_type": "execute_result"
    }
   ],
   "source": [
    "raw_df = pd.read_csv('combined_data.csv')\n",
    "df = raw_df[['text','label']]\n",
    "df.dropna()\n",
    "df['text'] = df['text'].astype(str)\n",
    "df.tail()"
   ]
  },
  {
   "cell_type": "code",
   "execution_count": 23,
   "id": "47cdb742-cc94-4ef2-a6d3-95385679629b",
   "metadata": {},
   "outputs": [],
   "source": [
    "df['text'] = df['text'].apply(clean_text)"
   ]
  },
  {
   "cell_type": "code",
   "execution_count": 24,
   "id": "f90c102f-8d80-4faa-97e6-f794a14456e5",
   "metadata": {},
   "outputs": [],
   "source": [
    "df['preds'] = df['text'].apply(model)"
   ]
  },
  {
   "cell_type": "code",
   "execution_count": 25,
   "id": "1f62b452-0111-416e-9b2f-dde76dfcb80b",
   "metadata": {},
   "outputs": [],
   "source": [
    "df['preds'] = df['preds'].apply(to_cpu)"
   ]
  },
  {
   "cell_type": "code",
   "execution_count": 26,
   "id": "30debc96-9d6a-4d63-a8ea-b5ab403f08de",
   "metadata": {},
   "outputs": [],
   "source": [
    "y_true2 = df['label'].tolist()\n",
    "y_pred2 = df['preds'].tolist()"
   ]
  },
  {
   "cell_type": "code",
   "execution_count": 27,
   "id": "a7b7d0a0-88ad-4143-a645-de5154ce604e",
   "metadata": {},
   "outputs": [
    {
     "name": "stdout",
     "output_type": "stream",
     "text": [
      "Ensemble Accuracy (Augmented): 0.8759312756575947\n"
     ]
    }
   ],
   "source": [
    "print(f'Ensemble Accuracy (Augmented): {accuracy_score(y_true2, y_pred2)}')"
   ]
  },
  {
   "cell_type": "code",
   "execution_count": 28,
   "id": "388dd82e-3096-4c19-a957-d75a93983e01",
   "metadata": {},
   "outputs": [
    {
     "data": {
      "image/png": "[encoded data removed]",
      "text/plain": [
       "<Figure size 432x288 with 2 Axes>"
      ]
     },
     "metadata": {
      "needs_background": "light"
     },
     "output_type": "display_data"
    }
   ],
   "source": [
    "confusion_mat2 = confusion_matrix(y_true2, y_pred2)\n",
    "disp2 = ConfusionMatrixDisplay(confusion_mat2, display_labels=target_names)\n",
    "disp2.plot(cmap='inferno_r')\n",
    "plt.show()"
   ]
  },
  {
   "cell_type": "code",
   "execution_count": null,
   "id": "8a45aa0e-9369-4442-a8b7-aac64e9d1b42",
   "metadata": {},
   "outputs": [],
   "source": []
  },
  {
   "cell_type": "markdown",
   "id": "0dc163c1-9fe5-41a3-a431-18e414fe8c2a",
   "metadata": {},
   "source": [
    "### Cherry picked examples"
   ]
  },
  {
   "cell_type": "code",
   "execution_count": 29,
   "id": "859ecc82-629a-41c9-86a4-e7f891ac74f4",
   "metadata": {},
   "outputs": [
    {
     "name": "stdout",
     "output_type": "stream",
     "text": [
      "-------------------------------------------------------------\n",
      "| label        | model1 | model2 | model3 | model4 | avg_pr |\n",
      "| legitimate   | 0.0074 | 0.0233 | 0.0101 | 0.0164 | 0.0143 |\n",
      "| misinfo      | 0.0112 | 0.0304 | 0.0078 | 0.0263 | 0.0189 |\n",
      "| irrelevant   | 0.9814 | 0.9463 | 0.9821 | 0.9572 | 0.9668 |\n",
      "-------------------------------------------------------------\n",
      "irrelevant\n"
     ]
    }
   ],
   "source": [
    "# Example #1\n",
    "text = \"DP Dough is the best restaurant in New York\"\n",
    "print(model(text, debug=True))"
   ]
  },
  {
   "cell_type": "code",
   "execution_count": 30,
   "id": "b944762b-5667-42f3-9e52-9d1323227ab5",
   "metadata": {},
   "outputs": [
    {
     "name": "stdout",
     "output_type": "stream",
     "text": [
      "-------------------------------------------------------------\n",
      "| label        | model1 | model2 | model3 | model4 | avg_pr |\n",
      "| legitimate   | 0.0227 | 0.0064 | 0.0027 | 0.0084 | 0.0101 |\n",
      "| misinfo      | 0.9428 | 0.9777 | 0.9914 | 0.9803 | 0.9731 |\n",
      "| irrelevant   | 0.0346 | 0.0159 | 0.0059 | 0.0113 | 0.0169 |\n",
      "-------------------------------------------------------------\n",
      "misinformation\n"
     ]
    }
   ],
   "source": [
    "# Example #2\n",
    "text2 = \"Vaccines cause autism\"\n",
    "print(model(text2, debug=True))"
   ]
  },
  {
   "cell_type": "code",
   "execution_count": 31,
   "id": "3d3e22de-b517-4b43-8189-28920f3c9a34",
   "metadata": {},
   "outputs": [
    {
     "name": "stdout",
     "output_type": "stream",
     "text": [
      "-------------------------------------------------------------\n",
      "| label        | model1 | model2 | model3 | model4 | avg_pr |\n",
      "| legitimate   | 0.0022 | 0.0119 | 0.0020 | 0.0029 | 0.0048 |\n",
      "| misinfo      | 0.9948 | 0.9714 | 0.9953 | 0.9923 | 0.9884 |\n",
      "| irrelevant   | 0.0030 | 0.0166 | 0.0027 | 0.0048 | 0.0068 |\n",
      "-------------------------------------------------------------\n",
      "misinformation\n"
     ]
    }
   ],
   "source": [
    "# Example #3\n",
    "text3 = \"Vaccines prevent over 90% of Covid infections! #Science\"\n",
    "print(model(text3, debug=True))"
   ]
  },
  {
   "cell_type": "code",
   "execution_count": 32,
   "id": "ac354bef-b7eb-4af6-9e61-dc077086466a",
   "metadata": {},
   "outputs": [
    {
     "name": "stdout",
     "output_type": "stream",
     "text": [
      "-------------------------------------------------------------\n",
      "| label        | model1 | model2 | model3 | model4 | avg_pr |\n",
      "| legitimate   | 0.0242 | 0.0508 | 0.0623 | 0.0106 | 0.0370 |\n",
      "| misinfo      | 0.9017 | 0.8920 | 0.8995 | 0.9823 | 0.9189 |\n",
      "| irrelevant   | 0.0741 | 0.0571 | 0.0382 | 0.0071 | 0.0441 |\n",
      "-------------------------------------------------------------\n",
      "misinformation\n"
     ]
    }
   ],
   "source": [
    "# Example #4\n",
    "text4 = \"Vaccines will end the pandemic\"\n",
    "print(model(text4, debug=True))"
   ]
  },
  {
   "cell_type": "code",
   "execution_count": 33,
   "id": "9b57b250-d4e2-4612-9006-e9a5e7affe54",
   "metadata": {},
   "outputs": [
    {
     "name": "stdout",
     "output_type": "stream",
     "text": [
      "-------------------------------------------------------------\n",
      "| label        | model1 | model2 | model3 | model4 | avg_pr |\n",
      "| legitimate   | 0.0138 | 0.0575 | 0.0386 | 0.0014 | 0.0278 |\n",
      "| misinfo      | 0.6240 | 0.4259 | 0.4150 | 0.9833 | 0.6120 |\n",
      "| irrelevant   | 0.3621 | 0.5166 | 0.5464 | 0.0153 | 0.3601 |\n",
      "-------------------------------------------------------------\n",
      "misinformation\n"
     ]
    }
   ],
   "source": [
    "# Example #5\n",
    "text5 = \"scientists say bleach will prevent covid\"\n",
    "print(model(text5, debug=True))"
   ]
  },
  {
   "cell_type": "code",
   "execution_count": 34,
   "id": "11263fa3-507a-42aa-9672-231cbb842e8b",
   "metadata": {},
   "outputs": [
    {
     "name": "stdout",
     "output_type": "stream",
     "text": [
      "-------------------------------------------------------------\n",
      "| label        | model1 | model2 | model3 | model4 | avg_pr |\n",
      "| legitimate   | 0.0139 | 0.0154 | 0.0030 | 0.4809 | 0.1283 |\n",
      "| misinfo      | 0.0063 | 0.0607 | 0.0010 | 0.0080 | 0.0190 |\n",
      "| irrelevant   | 0.9798 | 0.9240 | 0.9959 | 0.5111 | 0.8527 |\n",
      "-------------------------------------------------------------\n",
      "irrelevant\n"
     ]
    }
   ],
   "source": [
    "# Example #6\n",
    "text6 = \"Biden says vaccines prevent over 90% of Covid infections!\"\n",
    "print(model(text6, debug=True))"
   ]
  },
  {
   "cell_type": "code",
   "execution_count": 35,
   "id": "77cf0075-0d53-4a9a-9c1c-95b680830e86",
   "metadata": {},
   "outputs": [
    {
     "name": "stdout",
     "output_type": "stream",
     "text": [
      "-------------------------------------------------------------\n",
      "| label        | model1 | model2 | model3 | model4 | avg_pr |\n",
      "| legitimate   | 0.0035 | 0.0148 | 0.0012 | 0.0094 | 0.0073 |\n",
      "| misinfo      | 0.0045 | 0.0414 | 0.0011 | 0.0324 | 0.0198 |\n",
      "| irrelevant   | 0.9919 | 0.9438 | 0.9977 | 0.9582 | 0.9729 |\n",
      "-------------------------------------------------------------\n",
      "irrelevant\n"
     ]
    }
   ],
   "source": [
    "# Example #7\n",
    "text7 = \"Biden says vaccines cause autism!\"\n",
    "print(model(text7, debug=True))"
   ]
  },
  {
   "cell_type": "code",
   "execution_count": 36,
   "id": "764ddeb8-a58b-4528-a6d1-b7dd1c5dd61b",
   "metadata": {},
   "outputs": [
    {
     "name": "stdout",
     "output_type": "stream",
     "text": [
      "-------------------------------------------------------------\n",
      "| label        | model1 | model2 | model3 | model4 | avg_pr |\n",
      "| legitimate   | 0.8882 | 0.0075 | 0.0438 | 0.0432 | 0.2457 |\n",
      "| misinfo      | 0.1072 | 0.9789 | 0.9483 | 0.9511 | 0.7464 |\n",
      "| irrelevant   | 0.0046 | 0.0137 | 0.0079 | 0.0057 | 0.0079 |\n",
      "-------------------------------------------------------------\n",
      "misinformation\n"
     ]
    }
   ],
   "source": [
    "# Example #8\n",
    "text8 = \"In Portugal, with 89% of the total population fully vaccinated, almost 90% of UCI Covid patients are unvaccinated\"\n",
    "print(model(text8, debug=True))"
   ]
  },
  {
   "cell_type": "code",
   "execution_count": 37,
   "id": "15058aea-c5fe-4ed3-a844-279e899053f0",
   "metadata": {},
   "outputs": [
    {
     "name": "stdout",
     "output_type": "stream",
     "text": [
      "-------------------------------------------------------------\n",
      "| label        | model1 | model2 | model3 | model4 | avg_pr |\n",
      "| legitimate   | 0.0029 | 0.0103 | 0.0037 | 0.0052 | 0.0055 |\n",
      "| misinfo      | 0.0070 | 0.0306 | 0.0037 | 0.0166 | 0.0145 |\n",
      "| irrelevant   | 0.9901 | 0.9591 | 0.9926 | 0.9782 | 0.9800 |\n",
      "-------------------------------------------------------------\n",
      "irrelevant\n"
     ]
    }
   ],
   "source": [
    "# Example #9\n",
    "text9 = \"President Trump has covid\"\n",
    "print(model(text9, debug=True))"
   ]
  },
  {
   "cell_type": "code",
   "execution_count": 38,
   "id": "7d93a257-f35d-4218-8f9b-b10ed7ff672f",
   "metadata": {},
   "outputs": [
    {
     "name": "stdout",
     "output_type": "stream",
     "text": [
      "-------------------------------------------------------------\n",
      "| label        | model1 | model2 | model3 | model4 | avg_pr |\n",
      "| legitimate   | 0.9912 | 0.9921 | 0.9752 | 0.8498 | 0.9521 |\n",
      "| misinfo      | 0.0017 | 0.0034 | 0.0075 | 0.1393 | 0.0380 |\n",
      "| irrelevant   | 0.0071 | 0.0046 | 0.0173 | 0.0108 | 0.0099 |\n",
      "-------------------------------------------------------------\n",
      "legitimate\n"
     ]
    }
   ],
   "source": [
    "# Example #10\n",
    "text10 = \"Vaccines don't stop you from getting covid.\"\n",
    "print(model(text10, debug=True))"
   ]
  },
  {
   "cell_type": "code",
   "execution_count": 39,
   "id": "5bab22c0-dd1b-4551-a55c-ba39611afb41",
   "metadata": {},
   "outputs": [
    {
     "name": "stdout",
     "output_type": "stream",
     "text": [
      "-------------------------------------------------------------\n",
      "| label        | model1 | model2 | model3 | model4 | avg_pr |\n",
      "| legitimate   | 0.4607 | 0.0404 | 0.0207 | 0.0225 | 0.1361 |\n",
      "| misinfo      | 0.5273 | 0.9286 | 0.9740 | 0.9735 | 0.8509 |\n",
      "| irrelevant   | 0.0120 | 0.0310 | 0.0053 | 0.0040 | 0.0131 |\n",
      "-------------------------------------------------------------\n",
      "misinformation\n"
     ]
    }
   ],
   "source": [
    "# Example #11\n",
    "text11 = \"Vaccinations stop you from getting covid.\"\n",
    "print(model(text11, debug=True))"
   ]
  },
  {
   "cell_type": "code",
   "execution_count": 40,
   "id": "1eeb5a37-820a-4401-a6f2-fbf8b1168c41",
   "metadata": {},
   "outputs": [
    {
     "name": "stdout",
     "output_type": "stream",
     "text": [
      "-------------------------------------------------------------\n",
      "| label        | model1 | model2 | model3 | model4 | avg_pr |\n",
      "| legitimate   | 0.9930 | 0.4967 | 0.9806 | 0.5681 | 0.7596 |\n",
      "| misinfo      | 0.0031 | 0.3976 | 0.0050 | 0.3626 | 0.1921 |\n",
      "| irrelevant   | 0.0039 | 0.1057 | 0.0144 | 0.0693 | 0.0483 |\n",
      "-------------------------------------------------------------\n",
      "legitimate\n"
     ]
    }
   ],
   "source": [
    "# Example #12\n",
    "text12 = \"Masks are effective\"\n",
    "print(model(text12, debug=True))"
   ]
  },
  {
   "cell_type": "code",
   "execution_count": 41,
   "id": "2bd5d3c4-ca88-47ba-ac4f-4017049627dc",
   "metadata": {},
   "outputs": [
    {
     "name": "stdout",
     "output_type": "stream",
     "text": [
      "-------------------------------------------------------------\n",
      "| label        | model1 | model2 | model3 | model4 | avg_pr |\n",
      "| legitimate   | 0.8264 | 0.1046 | 0.9588 | 0.4303 | 0.5800 |\n",
      "| misinfo      | 0.1372 | 0.8472 | 0.0199 | 0.5264 | 0.3827 |\n",
      "| irrelevant   | 0.0365 | 0.0481 | 0.0213 | 0.0433 | 0.0373 |\n",
      "-------------------------------------------------------------\n",
      "legitimate\n"
     ]
    }
   ],
   "source": [
    "# Example #13\n",
    "text13 = \"Vaccines are effective\"\n",
    "print(model(text13, debug=True))"
   ]
  },
  {
   "cell_type": "code",
   "execution_count": 42,
   "id": "47d0e447-7c29-4a94-ac8f-1d01c55c5640",
   "metadata": {},
   "outputs": [
    {
     "name": "stdout",
     "output_type": "stream",
     "text": [
      "-------------------------------------------------------------\n",
      "| label        | model1 | model2 | model3 | model4 | avg_pr |\n",
      "| legitimate   | 0.0024 | 0.0162 | 0.0033 | 0.0018 | 0.0059 |\n",
      "| misinfo      | 0.9922 | 0.9528 | 0.9869 | 0.9935 | 0.9813 |\n",
      "| irrelevant   | 0.0054 | 0.0310 | 0.0099 | 0.0048 | 0.0128 |\n",
      "-------------------------------------------------------------\n",
      "misinformation\n"
     ]
    }
   ],
   "source": [
    "# Example #14\n",
    "text14 = \"Essential oils are effective\"\n",
    "print(model(text14, debug=True))"
   ]
  },
  {
   "cell_type": "code",
   "execution_count": 43,
   "id": "92600efd-3f86-482e-9b1c-1d7ea6328fc2",
   "metadata": {},
   "outputs": [
    {
     "name": "stdout",
     "output_type": "stream",
     "text": [
      "-------------------------------------------------------------\n",
      "| label        | model1 | model2 | model3 | model4 | avg_pr |\n",
      "| legitimate   | 0.9990 | 0.9864 | 0.9965 | 0.9982 | 0.9950 |\n",
      "| misinfo      | 0.0004 | 0.0087 | 0.0017 | 0.0006 | 0.0029 |\n",
      "| irrelevant   | 0.0006 | 0.0049 | 0.0018 | 0.0012 | 0.0021 |\n",
      "-------------------------------------------------------------\n",
      "legitimate\n"
     ]
    }
   ],
   "source": [
    "# Example #15\n",
    "text15 = '''The Omicron variant of the coronavirus is causing Covid-19 cases to spike, \n",
    "            with an average of more than 747,000 new cases a day, according to the latest \n",
    "            numbers from Johns Hopkins University'''\n",
    "print(model(text15, debug=True))"
   ]
  },
  {
   "cell_type": "code",
   "execution_count": 44,
   "id": "5c672b5d-8ed0-4c8e-8f05-5574f727c696",
   "metadata": {},
   "outputs": [
    {
     "name": "stdout",
     "output_type": "stream",
     "text": [
      "-------------------------------------------------------------\n",
      "| label        | model1 | model2 | model3 | model4 | avg_pr |\n",
      "| legitimate   | 0.9994 | 0.9962 | 0.9975 | 0.9980 | 0.9978 |\n",
      "| misinfo      | 0.0004 | 0.0017 | 0.0008 | 0.0003 | 0.0008 |\n",
      "| irrelevant   | 0.0003 | 0.0021 | 0.0017 | 0.0017 | 0.0014 |\n",
      "-------------------------------------------------------------\n",
      "legitimate\n"
     ]
    }
   ],
   "source": [
    "# Example #16\n",
    "text16 = '''Kim Kramer has heart failure, which puts her at higher risk of having a severe case \n",
    "            of Covid-19.'''\n",
    "print(model(text16, debug=True))"
   ]
  },
  {
   "cell_type": "code",
   "execution_count": null,
   "id": "d7ed11bb-f05f-41cb-9d03-ea6847072c59",
   "metadata": {},
   "outputs": [],
   "source": []
  },
  {
   "cell_type": "code",
   "execution_count": null,
   "id": "40b19e97-aeb5-460a-99d7-1e22b3c80d25",
   "metadata": {},
   "outputs": [],
   "source": []
  }
 ],
 "metadata": {
  "kernelspec": {
   "display_name": ".venv",
   "language": "python",
   "name": ".venv"
  },
  "language_info": {
   "codemirror_mode": {
    "name": "ipython",
    "version": 3
   },
   "file_extension": ".py",
   "mimetype": "text/x-python",
   "name": "python",
   "nbconvert_exporter": "python",
   "pygments_lexer": "ipython3",
   "version": "3.9.5"
  }
 },
 "nbformat": 4,
 "nbformat_minor": 5
}
