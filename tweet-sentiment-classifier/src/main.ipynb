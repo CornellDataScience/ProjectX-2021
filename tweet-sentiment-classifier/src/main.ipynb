{
 "cells": [
  {
   "cell_type": "markdown",
   "id": "83f41650",
   "metadata": {},
   "source": [
    "# Covid Tweet Sentiment Classifier\n",
    "\n",
    "Write a description of this project"
   ]
  },
  {
   "cell_type": "markdown",
   "id": "d977cb6b",
   "metadata": {},
   "source": [
    "## 0. Imports\n",
    "\n",
    "Include discussion about file structure and choice of machine learning frameworks (for us, it will be PyTorch)"
   ]
  },
  {
   "cell_type": "code",
   "execution_count": 17,
   "id": "6192eb9c",
   "metadata": {},
   "outputs": [
    {
     "name": "stdout",
     "output_type": "stream",
     "text": [
      "Imports succeeded\n"
     ]
    }
   ],
   "source": [
    "import numpy as np\n",
    "import pandas as pd\n",
    "import engine\n",
    "import tweepy\n",
    "\n",
    "print(\"Imports succeeded\")\n",
    "#engine.sanity_check()"
   ]
  },
  {
   "cell_type": "markdown",
   "id": "7aeac00e",
   "metadata": {},
   "source": [
    "## 1. Data Processing\n",
    "\n",
    "We need to perform the following steps:\n",
    "- [x] Read the raw data\n",
    "- [X] Scrape the tweets using the IDs\n",
    "- [ ] Bin the annotations into either legit information or misinformation\n",
    "\n",
    "Ideally, we create a new dataset .csv and save it. It should have the following headers: \"id\", \"text\", \"annotation1\"\n"
   ]
  },
  {
   "cell_type": "code",
   "execution_count": 2,
   "id": "bdd8203f",
   "metadata": {},
   "outputs": [
    {
     "data": {
      "text/html": [
       "<div>\n",
       "<style scoped>\n",
       "    .dataframe tbody tr th:only-of-type {\n",
       "        vertical-align: middle;\n",
       "    }\n",
       "\n",
       "    .dataframe tbody tr th {\n",
       "        vertical-align: top;\n",
       "    }\n",
       "\n",
       "    .dataframe thead th {\n",
       "        text-align: right;\n",
       "    }\n",
       "</style>\n",
       "<table border=\"1\" class=\"dataframe\">\n",
       "  <thead>\n",
       "    <tr style=\"text-align: right;\">\n",
       "      <th></th>\n",
       "      <th>status_id</th>\n",
       "      <th>status_created_at</th>\n",
       "      <th>annotation1</th>\n",
       "      <th>annotation2</th>\n",
       "      <th>text</th>\n",
       "    </tr>\n",
       "  </thead>\n",
       "  <tbody>\n",
       "    <tr>\n",
       "      <th>4568</th>\n",
       "      <td>1280654762950774785</td>\n",
       "      <td>Wed Jul 08 00:07:43 +0000 2020</td>\n",
       "      <td>calling out or correction</td>\n",
       "      <td>NaN</td>\n",
       "      <td>Da fark is wrong with these people?!\\n\\nhttps:...</td>\n",
       "    </tr>\n",
       "    <tr>\n",
       "      <th>4569</th>\n",
       "      <td>1280669090835828738</td>\n",
       "      <td>Wed Jul 08 01:04:39 +0000 2020</td>\n",
       "      <td>fake cure</td>\n",
       "      <td>NaN</td>\n",
       "      <td>Doctor Finds Cure to COVID-19 (without Vaccine...</td>\n",
       "    </tr>\n",
       "    <tr>\n",
       "      <th>4570</th>\n",
       "      <td>1280675380014309376</td>\n",
       "      <td>Wed Jul 08 01:29:39 +0000 2020</td>\n",
       "      <td>calling out or correction</td>\n",
       "      <td>NaN</td>\n",
       "      <td>I can’t believe people legitimately think that...</td>\n",
       "    </tr>\n",
       "    <tr>\n",
       "      <th>4571</th>\n",
       "      <td>1280676605396836352</td>\n",
       "      <td>Wed Jul 08 01:34:31 +0000 2020</td>\n",
       "      <td>politics</td>\n",
       "      <td>NaN</td>\n",
       "      <td>...(wrong with Trump continues), \\n-Will push ...</td>\n",
       "    </tr>\n",
       "    <tr>\n",
       "      <th>4572</th>\n",
       "      <td>1280693005599506432</td>\n",
       "      <td>Wed Jul 08 02:39:41 +0000 2020</td>\n",
       "      <td>calling out or correction</td>\n",
       "      <td>NaN</td>\n",
       "      <td>For anyone who still believes that COVID-19 is...</td>\n",
       "    </tr>\n",
       "  </tbody>\n",
       "</table>\n",
       "</div>"
      ],
      "text/plain": [
       "                status_id               status_created_at  \\\n",
       "4568  1280654762950774785  Wed Jul 08 00:07:43 +0000 2020   \n",
       "4569  1280669090835828738  Wed Jul 08 01:04:39 +0000 2020   \n",
       "4570  1280675380014309376  Wed Jul 08 01:29:39 +0000 2020   \n",
       "4571  1280676605396836352  Wed Jul 08 01:34:31 +0000 2020   \n",
       "4572  1280693005599506432  Wed Jul 08 02:39:41 +0000 2020   \n",
       "\n",
       "                    annotation1 annotation2  \\\n",
       "4568  calling out or correction         NaN   \n",
       "4569                  fake cure         NaN   \n",
       "4570  calling out or correction         NaN   \n",
       "4571                   politics         NaN   \n",
       "4572  calling out or correction         NaN   \n",
       "\n",
       "                                                   text  \n",
       "4568  Da fark is wrong with these people?!\\n\\nhttps:...  \n",
       "4569  Doctor Finds Cure to COVID-19 (without Vaccine...  \n",
       "4570  I can’t believe people legitimately think that...  \n",
       "4571  ...(wrong with Trump continues), \\n-Will push ...  \n",
       "4572  For anyone who still believes that COVID-19 is...  "
      ]
     },
     "execution_count": 2,
     "metadata": {},
     "output_type": "execute_result"
    }
   ],
   "source": [
    "raw_data = pd.read_csv('../data/miscov19.csv')\n",
    "raw_data.tail()"
   ]
  },
  {
   "cell_type": "markdown",
   "id": "ec5da507",
   "metadata": {},
   "source": [
    "Here, we try to take the tweet IDs and obtain the text from them."
   ]
  },
  {
   "cell_type": "code",
   "execution_count": null,
   "id": "7d025e04",
   "metadata": {},
   "outputs": [],
   "source": []
  },
  {
   "cell_type": "markdown",
   "id": "d025e4ad",
   "metadata": {},
   "source": [
    "## 2. Model Training\n",
    "\n",
    "In this section, we will train the model. The model will be defined in the engine.py file along with data loading and associated functions. We will need to develop an API to go between this Jupyter Notebook and the engine. This layer of separation is intentional, as it allows us to have pipeline components which are self contained."
   ]
  },
  {
   "cell_type": "code",
   "execution_count": null,
   "id": "dad2eaa3",
   "metadata": {},
   "outputs": [],
   "source": []
  },
  {
   "cell_type": "markdown",
   "id": "90f50c3f",
   "metadata": {},
   "source": [
    "### 2.1 Hyperparameter Optimization \n",
    "\n",
    "Using K-fold validation, we shall attempt to find optimal hyperparameters. The hyperparameter space has yet to be defined, but early stopping is known to be an important aspect of fine tuning BERT models."
   ]
  },
  {
   "cell_type": "markdown",
   "id": "36d9a9df",
   "metadata": {},
   "source": [
    "## 3. Model Evaluation\n",
    "\n",
    "In this section, we will evaluate the model based on its performance on a holdout set of test data."
   ]
  },
  {
   "cell_type": "code",
   "execution_count": 16,
   "id": "1db89fa3",
   "metadata": {},
   "outputs": [
    {
     "name": "stdout",
     "output_type": "stream",
     "text": [
      "Accuracy: 0.6364\n",
      "Precision: 0.6000\n",
      "Recall: 0.6000\n",
      "F1: 0.6000\n"
     ]
    }
   ],
   "source": [
    "import model_evaluate\n",
    "\n",
    "#model_evaluate.sanity_check()\n",
    "\n",
    "X_test = [0,0,0,0,0,0,0,0,0,0,0] # list-like of test data\n",
    "y_real = [1,0,0,1,1,0,0,1,0,1,0] # list-like of real labels on the test data\n",
    "y_pred = [1,0,1,1,0,0,0,1,1,0,0] # list-like of predicted labels on the test data\n",
    "\n",
    "acc = model_evaluate.accuracy(y_real, y_pred)\n",
    "pre = model_evaluate.precision(y_real, y_pred)\n",
    "rec = model_evaluate.recall(y_real, y_pred)\n",
    "f1 = model_evaluate.f1(y_real, y_pred)\n",
    "\n",
    "print(f\"Accuracy: {acc:.4f}\\nPrecision: {pre:.4f}\\nRecall: {rec:.4f}\\nF1: {f1:.4f}\")"
   ]
  }
 ],
 "metadata": {
  "kernelspec": {
   "display_name": "Python 3 (ipykernel)",
   "language": "python",
   "name": "python3"
  },
  "language_info": {
   "codemirror_mode": {
    "name": "ipython",
    "version": 3
   },
   "file_extension": ".py",
   "mimetype": "text/x-python",
   "name": "python",
   "nbconvert_exporter": "python",
   "pygments_lexer": "ipython3",
   "version": "3.8.10"
  }
 },
 "nbformat": 4,
 "nbformat_minor": 5
}
