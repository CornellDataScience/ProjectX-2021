{
 "cells": [
  {
   "cell_type": "code",
   "execution_count": 1,
   "metadata": {},
   "outputs": [],
   "source": [
    "# imports\n",
    "import requests\n",
    "from bs4 import BeautifulSoup\n",
    "import pandas as pd\n",
    "import numpy as np\n",
    "import tweepy"
   ]
  },
  {
   "cell_type": "code",
   "execution_count": 2,
   "metadata": {},
   "outputs": [
    {
     "data": {
      "text/html": [
       "<div>\n",
       "<style scoped>\n",
       "    .dataframe tbody tr th:only-of-type {\n",
       "        vertical-align: middle;\n",
       "    }\n",
       "\n",
       "    .dataframe tbody tr th {\n",
       "        vertical-align: top;\n",
       "    }\n",
       "\n",
       "    .dataframe thead th {\n",
       "        text-align: right;\n",
       "    }\n",
       "</style>\n",
       "<table border=\"1\" class=\"dataframe\">\n",
       "  <thead>\n",
       "    <tr style=\"text-align: right;\">\n",
       "      <th></th>\n",
       "      <th>status_id</th>\n",
       "      <th>status_created_at</th>\n",
       "      <th>annotation1</th>\n",
       "      <th>annotation2</th>\n",
       "    </tr>\n",
       "  </thead>\n",
       "  <tbody>\n",
       "    <tr>\n",
       "      <th>0</th>\n",
       "      <td>1237387231779840000</td>\n",
       "      <td>Tue Mar 10 14:38:00 +0000 2020</td>\n",
       "      <td>irrelevant</td>\n",
       "      <td>NaN</td>\n",
       "    </tr>\n",
       "    <tr>\n",
       "      <th>1</th>\n",
       "      <td>1240175235304960000</td>\n",
       "      <td>Wed Mar 18 07:16:32 +0000 2020</td>\n",
       "      <td>irrelevant</td>\n",
       "      <td>NaN</td>\n",
       "    </tr>\n",
       "    <tr>\n",
       "      <th>2</th>\n",
       "      <td>1241324844920320000</td>\n",
       "      <td>Sat Mar 21 11:24:40 +0000 2020</td>\n",
       "      <td>irrelevant</td>\n",
       "      <td>NaN</td>\n",
       "    </tr>\n",
       "    <tr>\n",
       "      <th>3</th>\n",
       "      <td>1241872361743360000</td>\n",
       "      <td>Sun Mar 22 23:40:18 +0000 2020</td>\n",
       "      <td>irrelevant</td>\n",
       "      <td>NaN</td>\n",
       "    </tr>\n",
       "    <tr>\n",
       "      <th>4</th>\n",
       "      <td>1243024442621440000</td>\n",
       "      <td>Thu Mar 26 03:58:16 +0000 2020</td>\n",
       "      <td>irrelevant</td>\n",
       "      <td>NaN</td>\n",
       "    </tr>\n",
       "    <tr>\n",
       "      <th>...</th>\n",
       "      <td>...</td>\n",
       "      <td>...</td>\n",
       "      <td>...</td>\n",
       "      <td>...</td>\n",
       "    </tr>\n",
       "    <tr>\n",
       "      <th>4568</th>\n",
       "      <td>1280654762950774785</td>\n",
       "      <td>Wed Jul 08 00:07:43 +0000 2020</td>\n",
       "      <td>calling out or correction</td>\n",
       "      <td>NaN</td>\n",
       "    </tr>\n",
       "    <tr>\n",
       "      <th>4569</th>\n",
       "      <td>1280669090835828738</td>\n",
       "      <td>Wed Jul 08 01:04:39 +0000 2020</td>\n",
       "      <td>fake cure</td>\n",
       "      <td>NaN</td>\n",
       "    </tr>\n",
       "    <tr>\n",
       "      <th>4570</th>\n",
       "      <td>1280675380014309376</td>\n",
       "      <td>Wed Jul 08 01:29:39 +0000 2020</td>\n",
       "      <td>calling out or correction</td>\n",
       "      <td>NaN</td>\n",
       "    </tr>\n",
       "    <tr>\n",
       "      <th>4571</th>\n",
       "      <td>1280676605396836352</td>\n",
       "      <td>Wed Jul 08 01:34:31 +0000 2020</td>\n",
       "      <td>politics</td>\n",
       "      <td>NaN</td>\n",
       "    </tr>\n",
       "    <tr>\n",
       "      <th>4572</th>\n",
       "      <td>1280693005599506432</td>\n",
       "      <td>Wed Jul 08 02:39:41 +0000 2020</td>\n",
       "      <td>calling out or correction</td>\n",
       "      <td>NaN</td>\n",
       "    </tr>\n",
       "  </tbody>\n",
       "</table>\n",
       "<p>4573 rows × 4 columns</p>\n",
       "</div>"
      ],
      "text/plain": [
       "                status_id               status_created_at  \\\n",
       "0     1237387231779840000  Tue Mar 10 14:38:00 +0000 2020   \n",
       "1     1240175235304960000  Wed Mar 18 07:16:32 +0000 2020   \n",
       "2     1241324844920320000  Sat Mar 21 11:24:40 +0000 2020   \n",
       "3     1241872361743360000  Sun Mar 22 23:40:18 +0000 2020   \n",
       "4     1243024442621440000  Thu Mar 26 03:58:16 +0000 2020   \n",
       "...                   ...                             ...   \n",
       "4568  1280654762950774785  Wed Jul 08 00:07:43 +0000 2020   \n",
       "4569  1280669090835828738  Wed Jul 08 01:04:39 +0000 2020   \n",
       "4570  1280675380014309376  Wed Jul 08 01:29:39 +0000 2020   \n",
       "4571  1280676605396836352  Wed Jul 08 01:34:31 +0000 2020   \n",
       "4572  1280693005599506432  Wed Jul 08 02:39:41 +0000 2020   \n",
       "\n",
       "                    annotation1 annotation2  \n",
       "0                    irrelevant         NaN  \n",
       "1                    irrelevant         NaN  \n",
       "2                    irrelevant         NaN  \n",
       "3                    irrelevant         NaN  \n",
       "4                    irrelevant         NaN  \n",
       "...                         ...         ...  \n",
       "4568  calling out or correction         NaN  \n",
       "4569                  fake cure         NaN  \n",
       "4570  calling out or correction         NaN  \n",
       "4571                   politics         NaN  \n",
       "4572  calling out or correction         NaN  \n",
       "\n",
       "[4573 rows x 4 columns]"
      ]
     },
     "execution_count": 2,
     "metadata": {},
     "output_type": "execute_result"
    }
   ],
   "source": [
    "tweet_data = pd.read_csv(\"CMU_MisCov19_dataset.csv\")\n",
    "tweet_data"
   ]
  },
  {
   "cell_type": "code",
   "execution_count": 3,
   "metadata": {},
   "outputs": [],
   "source": [
    "consumer_key = 'cSuIh662am6YtzuJNT1RWnzqF'\n",
    "consumer_secret = 'V7uyDK3o3OLljPWMzQ9pKzGPK8tODHVFkHBgwDuEvf9c3g1eaX'\n",
    "access_token = '2577558920-yKXNYAqsm3agfTwCuVLnDHQrrSfeIptFUIkqcID'\n",
    "access_token_secret = '3GSupBB3egr7wzFY3QN2uVwGy3q38fkTaavNuzS1X4Ew0'\n",
    "auth = tweepy.OAuthHandler(consumer_key, consumer_secret)\n",
    "auth.set_access_token(access_token, access_token_secret)\n",
    "api = tweepy.API(auth,wait_on_rate_limit=True)"
   ]
  },
  {
   "cell_type": "code",
   "execution_count": 4,
   "metadata": {},
   "outputs": [],
   "source": [
    "tweet_data['text'] = np.nan"
   ]
  },
  {
   "cell_type": "code",
   "execution_count": 5,
   "metadata": {},
   "outputs": [
    {
     "name": "stderr",
     "output_type": "stream",
     "text": [
      "<ipython-input-5-8c2f1c0c0509>:5: SettingWithCopyWarning: \n",
      "A value is trying to be set on a copy of a slice from a DataFrame\n",
      "\n",
      "See the caveats in the documentation: https://pandas.pydata.org/pandas-docs/stable/user_guide/indexing.html#returning-a-view-versus-a-copy\n",
      "  tweet_data['text'][index+2000] = obj.full_text\n",
      "/Library/Frameworks/Python.framework/Versions/3.8/lib/python3.8/site-packages/pandas/core/indexing.py:670: SettingWithCopyWarning: \n",
      "A value is trying to be set on a copy of a slice from a DataFrame\n",
      "\n",
      "See the caveats in the documentation: https://pandas.pydata.org/pandas-docs/stable/user_guide/indexing.html#returning-a-view-versus-a-copy\n",
      "  iloc._setitem_with_indexer(indexer, value)\n"
     ]
    },
    {
     "name": "stdout",
     "output_type": "stream",
     "text": [
      "0\n",
      "100\n",
      "200\n",
      "300\n",
      "400\n",
      "500\n",
      "600\n",
      "700\n",
      "800\n"
     ]
    },
    {
     "name": "stderr",
     "output_type": "stream",
     "text": [
      "Rate limit reached. Sleeping for: 721\n"
     ]
    },
    {
     "name": "stdout",
     "output_type": "stream",
     "text": [
      "900\n",
      "1000\n",
      "1100\n",
      "1200\n",
      "1300\n",
      "1400\n",
      "1500\n",
      "1600\n",
      "1700\n"
     ]
    },
    {
     "name": "stderr",
     "output_type": "stream",
     "text": [
      "Rate limit reached. Sleeping for: 723\n"
     ]
    },
    {
     "name": "stdout",
     "output_type": "stream",
     "text": [
      "1800\n",
      "1900\n",
      "2000\n",
      "2100\n",
      "2200\n",
      "2300\n",
      "2400\n",
      "2500\n"
     ]
    },
    {
     "data": {
      "text/html": [
       "<div>\n",
       "<style scoped>\n",
       "    .dataframe tbody tr th:only-of-type {\n",
       "        vertical-align: middle;\n",
       "    }\n",
       "\n",
       "    .dataframe tbody tr th {\n",
       "        vertical-align: top;\n",
       "    }\n",
       "\n",
       "    .dataframe thead th {\n",
       "        text-align: right;\n",
       "    }\n",
       "</style>\n",
       "<table border=\"1\" class=\"dataframe\">\n",
       "  <thead>\n",
       "    <tr style=\"text-align: right;\">\n",
       "      <th></th>\n",
       "      <th>status_id</th>\n",
       "      <th>status_created_at</th>\n",
       "      <th>annotation1</th>\n",
       "      <th>annotation2</th>\n",
       "      <th>text</th>\n",
       "    </tr>\n",
       "  </thead>\n",
       "  <tbody>\n",
       "    <tr>\n",
       "      <th>0</th>\n",
       "      <td>1237387231779840000</td>\n",
       "      <td>Tue Mar 10 14:38:00 +0000 2020</td>\n",
       "      <td>irrelevant</td>\n",
       "      <td>NaN</td>\n",
       "      <td>NaN</td>\n",
       "    </tr>\n",
       "    <tr>\n",
       "      <th>1</th>\n",
       "      <td>1240175235304960000</td>\n",
       "      <td>Wed Mar 18 07:16:32 +0000 2020</td>\n",
       "      <td>irrelevant</td>\n",
       "      <td>NaN</td>\n",
       "      <td>NaN</td>\n",
       "    </tr>\n",
       "    <tr>\n",
       "      <th>2</th>\n",
       "      <td>1241324844920320000</td>\n",
       "      <td>Sat Mar 21 11:24:40 +0000 2020</td>\n",
       "      <td>irrelevant</td>\n",
       "      <td>NaN</td>\n",
       "      <td>NaN</td>\n",
       "    </tr>\n",
       "    <tr>\n",
       "      <th>3</th>\n",
       "      <td>1241872361743360000</td>\n",
       "      <td>Sun Mar 22 23:40:18 +0000 2020</td>\n",
       "      <td>irrelevant</td>\n",
       "      <td>NaN</td>\n",
       "      <td>NaN</td>\n",
       "    </tr>\n",
       "    <tr>\n",
       "      <th>4</th>\n",
       "      <td>1243024442621440000</td>\n",
       "      <td>Thu Mar 26 03:58:16 +0000 2020</td>\n",
       "      <td>irrelevant</td>\n",
       "      <td>NaN</td>\n",
       "      <td>NaN</td>\n",
       "    </tr>\n",
       "    <tr>\n",
       "      <th>...</th>\n",
       "      <td>...</td>\n",
       "      <td>...</td>\n",
       "      <td>...</td>\n",
       "      <td>...</td>\n",
       "      <td>...</td>\n",
       "    </tr>\n",
       "    <tr>\n",
       "      <th>4568</th>\n",
       "      <td>1280654762950774785</td>\n",
       "      <td>Wed Jul 08 00:07:43 +0000 2020</td>\n",
       "      <td>calling out or correction</td>\n",
       "      <td>NaN</td>\n",
       "      <td>Da fark is wrong with these people?!\\n\\nhttps:...</td>\n",
       "    </tr>\n",
       "    <tr>\n",
       "      <th>4569</th>\n",
       "      <td>1280669090835828738</td>\n",
       "      <td>Wed Jul 08 01:04:39 +0000 2020</td>\n",
       "      <td>fake cure</td>\n",
       "      <td>NaN</td>\n",
       "      <td>Doctor Finds Cure to COVID-19 (without Vaccine...</td>\n",
       "    </tr>\n",
       "    <tr>\n",
       "      <th>4570</th>\n",
       "      <td>1280675380014309376</td>\n",
       "      <td>Wed Jul 08 01:29:39 +0000 2020</td>\n",
       "      <td>calling out or correction</td>\n",
       "      <td>NaN</td>\n",
       "      <td>I can’t believe people legitimately think that...</td>\n",
       "    </tr>\n",
       "    <tr>\n",
       "      <th>4571</th>\n",
       "      <td>1280676605396836352</td>\n",
       "      <td>Wed Jul 08 01:34:31 +0000 2020</td>\n",
       "      <td>politics</td>\n",
       "      <td>NaN</td>\n",
       "      <td>...(wrong with Trump continues), \\n-Will push ...</td>\n",
       "    </tr>\n",
       "    <tr>\n",
       "      <th>4572</th>\n",
       "      <td>1280693005599506432</td>\n",
       "      <td>Wed Jul 08 02:39:41 +0000 2020</td>\n",
       "      <td>calling out or correction</td>\n",
       "      <td>NaN</td>\n",
       "      <td>For anyone who still believes that COVID-19 is...</td>\n",
       "    </tr>\n",
       "  </tbody>\n",
       "</table>\n",
       "<p>4573 rows × 5 columns</p>\n",
       "</div>"
      ],
      "text/plain": [
       "                status_id               status_created_at  \\\n",
       "0     1237387231779840000  Tue Mar 10 14:38:00 +0000 2020   \n",
       "1     1240175235304960000  Wed Mar 18 07:16:32 +0000 2020   \n",
       "2     1241324844920320000  Sat Mar 21 11:24:40 +0000 2020   \n",
       "3     1241872361743360000  Sun Mar 22 23:40:18 +0000 2020   \n",
       "4     1243024442621440000  Thu Mar 26 03:58:16 +0000 2020   \n",
       "...                   ...                             ...   \n",
       "4568  1280654762950774785  Wed Jul 08 00:07:43 +0000 2020   \n",
       "4569  1280669090835828738  Wed Jul 08 01:04:39 +0000 2020   \n",
       "4570  1280675380014309376  Wed Jul 08 01:29:39 +0000 2020   \n",
       "4571  1280676605396836352  Wed Jul 08 01:34:31 +0000 2020   \n",
       "4572  1280693005599506432  Wed Jul 08 02:39:41 +0000 2020   \n",
       "\n",
       "                    annotation1 annotation2  \\\n",
       "0                    irrelevant         NaN   \n",
       "1                    irrelevant         NaN   \n",
       "2                    irrelevant         NaN   \n",
       "3                    irrelevant         NaN   \n",
       "4                    irrelevant         NaN   \n",
       "...                         ...         ...   \n",
       "4568  calling out or correction         NaN   \n",
       "4569                  fake cure         NaN   \n",
       "4570  calling out or correction         NaN   \n",
       "4571                   politics         NaN   \n",
       "4572  calling out or correction         NaN   \n",
       "\n",
       "                                                   text  \n",
       "0                                                   NaN  \n",
       "1                                                   NaN  \n",
       "2                                                   NaN  \n",
       "3                                                   NaN  \n",
       "4                                                   NaN  \n",
       "...                                                 ...  \n",
       "4568  Da fark is wrong with these people?!\\n\\nhttps:...  \n",
       "4569  Doctor Finds Cure to COVID-19 (without Vaccine...  \n",
       "4570  I can’t believe people legitimately think that...  \n",
       "4571  ...(wrong with Trump continues), \\n-Will push ...  \n",
       "4572  For anyone who still believes that COVID-19 is...  \n",
       "\n",
       "[4573 rows x 5 columns]"
      ]
     },
     "execution_count": 5,
     "metadata": {},
     "output_type": "execute_result"
    }
   ],
   "source": [
    "for index, tweet in enumerate(tweet_data['status_id'][2000:]):\n",
    "    try:\n",
    "        obj = api.get_status(tweet, tweet_mode = \"extended\")\n",
    "        try:\n",
    "            tweet_data['text'][index+2000] = obj.full_text\n",
    "        except:\n",
    "            print('error retrieving text')\n",
    "    except:\n",
    "        pass\n",
    "    if index % 100 == 0:\n",
    "        print(index)\n",
    "    \n",
    "tweet_data"
   ]
  },
  {
   "cell_type": "code",
   "execution_count": 6,
   "metadata": {},
   "outputs": [
    {
     "data": {
      "text/plain": [
       "status_id                                          1265273219411578880\n",
       "status_created_at                       Tue May 26 13:26:57 +0000 2020\n",
       "annotation1                                          sarcasm or satire\n",
       "annotation2                                                        NaN\n",
       "text                 As opposed to the totally normal \"drink bleach...\n",
       "Name: 2000, dtype: object"
      ]
     },
     "execution_count": 6,
     "metadata": {},
     "output_type": "execute_result"
    }
   ],
   "source": [
    "tweet_data.iloc[2000]"
   ]
  },
  {
   "cell_type": "code",
   "execution_count": 25,
   "metadata": {},
   "outputs": [],
   "source": [
    "# tweet_data.to_csv(\"miscov19.csv\", index=False)"
   ]
  },
  {
   "cell_type": "code",
   "execution_count": 7,
   "metadata": {},
   "outputs": [
    {
     "data": {
      "text/plain": [
       "0       PAGS PARODY! Plus, Joe talks coronavirus and h...\n",
       "1       #coronavirus shows that racists have absolutel...\n",
       "2       @Laura1206 @ShitChester I would expect front l...\n",
       "3       @kidjim25 Why would they be buying bleach thou...\n",
       "4       The coronavirus is not only affecting the way ...\n",
       "                              ...                        \n",
       "4568                                                  NaN\n",
       "4569                                                  NaN\n",
       "4570                                                  NaN\n",
       "4571                                                  NaN\n",
       "4572                                                  NaN\n",
       "Name: text, Length: 4573, dtype: object"
      ]
     },
     "execution_count": 7,
     "metadata": {},
     "output_type": "execute_result"
    }
   ],
   "source": [
    "miscov_update = pd.read_csv(\"miscov19.csv\")\n",
    "temp = miscov_update['text']\n",
    "temp"
   ]
  },
  {
   "cell_type": "code",
   "execution_count": 8,
   "metadata": {},
   "outputs": [
    {
     "data": {
      "text/plain": [
       "'@RudyGiuliani For malaria, dumbass, not for #COVID19'"
      ]
     },
     "execution_count": 8,
     "metadata": {},
     "output_type": "execute_result"
    }
   ],
   "source": [
    "temp[1000]"
   ]
  },
  {
   "cell_type": "code",
   "execution_count": null,
   "metadata": {},
   "outputs": [],
   "source": []
  }
 ],
 "metadata": {
  "kernelspec": {
   "display_name": "Python 3",
   "language": "python",
   "name": "python3"
  },
  "language_info": {
   "codemirror_mode": {
    "name": "ipython",
    "version": 3
   },
   "file_extension": ".py",
   "mimetype": "text/x-python",
   "name": "python",
   "nbconvert_exporter": "python",
   "pygments_lexer": "ipython3",
   "version": "3.8.1"
  }
 },
 "nbformat": 4,
 "nbformat_minor": 4
}
