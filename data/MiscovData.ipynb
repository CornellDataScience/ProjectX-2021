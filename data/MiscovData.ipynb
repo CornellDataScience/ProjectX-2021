{
 "cells": [
  {
   "cell_type": "code",
   "execution_count": null,
   "metadata": {},
   "outputs": [],
   "source": [
    "# imports\n",
    "import requests\n",
    "from bs4 import BeautifulSoup\n",
    "import pandas as pd\n",
    "import numpy as np\n",
    "import tweepy"
   ]
  },
  {
   "cell_type": "code",
   "execution_count": null,
   "metadata": {},
   "outputs": [],
   "source": [
    "tweet_data = pd.read_csv(\"CMU_MisCov19_dataset.csv\")\n",
    "tweet_data"
   ]
  },
  {
   "cell_type": "code",
   "execution_count": null,
   "metadata": {},
   "outputs": [],
   "source": [
    "# Twitter authentication\n",
    "consumer_key = 'insert your own key'\n",
    "consumer_secret = 'insert your own key'\n",
    "access_token = 'insert your own key'\n",
    "access_token_secret = 'insert your own key'\n",
    "auth = tweepy.OAuthHandler(consumer_key, consumer_secret)\n",
    "auth.set_access_token(access_token, access_token_secret)\n",
    "api = tweepy.API(auth,wait_on_rate_limit=True)"
   ]
  },
  {
   "cell_type": "code",
   "execution_count": null,
   "metadata": {},
   "outputs": [],
   "source": [
    "tweet_data['text'] = np.nan"
   ]
  },
  {
   "cell_type": "code",
   "execution_count": null,
   "metadata": {},
   "outputs": [],
   "source": [
    "# Retrieve text from tweets\n",
    "for index, tweet in enumerate(tweet_data['status_id'][2000:]):\n",
    "    try:\n",
    "        obj = api.get_status(tweet, tweet_mode = \"extended\")\n",
    "        try:\n",
    "            tweet_data['text'][index+2000] = obj.full_text\n",
    "        except:\n",
    "            print('error retrieving text')\n",
    "    except:\n",
    "        pass\n",
    "    if index % 100 == 0:\n",
    "        print(index)\n",
    "    \n",
    "tweet_data"
   ]
  },
  {
   "cell_type": "code",
   "execution_count": null,
   "metadata": {},
   "outputs": [],
   "source": [
    "tweet_data.to_csv(\"miscov19.csv\", index=False)"
   ]
  }
 ],
 "metadata": {
  "kernelspec": {
   "display_name": "Python 3",
   "language": "python",
   "name": "python3"
  },
  "language_info": {
   "codemirror_mode": {
    "name": "ipython",
    "version": 3
   },
   "file_extension": ".py",
   "mimetype": "text/x-python",
   "name": "python",
   "nbconvert_exporter": "python",
   "pygments_lexer": "ipython3",
   "version": "3.8.1"
  }
 },
 "nbformat": 4,
 "nbformat_minor": 4
}
